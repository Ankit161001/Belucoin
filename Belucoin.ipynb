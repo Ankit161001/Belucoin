{
 "cells": [
  {
   "cell_type": "markdown",
   "id": "1011aa2f",
   "metadata": {},
   "source": [
    "# Belucoin\n",
    "<hr>\n",
    "<p style =\"text-align:center;\"><em>By Ankit Rana</em></p>\n",
    "<table>\n",
    "    <tr>\n",
    "        <td><img src = \"belucoin.jpg\" width = \"220\" height = \"220\"/></td>\n",
    "        <td style =\"text-align:left;\"><h3>Hello guys! Welcome to Belucoin. This is a complete cryptocurrency simulator.<br><br>\n",
    "        I have included all the steps needed to understand the entire process involved <br>\n",
    "        in the functioning of a cryptocurrency. <br><br>  \n",
    "        The many functionalities included in the following code are :\n",
    "        <ul>\n",
    "        <li>Blockchain creation and updation 🔗</li> \n",
    "        <li>Mining and mining payment ⛏</li>\n",
    "        <li>New user creation 🧑</li>\n",
    "        <li>Purchasing Belucoins with actual cash 💸</li>\n",
    "        <li>Selling Belucoins for actual cash 💰</li>\n",
    "        <li>Maintaining cash balance in database 💳</li>\n",
    "        <li>Adding cash to cash balance 💷</li>\n",
    "        </ul>\n",
    "        </h3></td>\n",
    "    </tr>\n",
    "</table>\n"
   ]
  },
  {
   "cell_type": "markdown",
   "id": "a4de0dea",
   "metadata": {},
   "source": [
    "I have tried my best to keep it simple and explain every component of this Python Notebook 👨‍💻 <br>\n",
    "Hope you find it informative. 🔍 \n",
    "<br>\n",
    "If any queries arise, drop 'em in my socials:\n",
    "[Twitter](https://twitter.com/ankyeet)\n",
    "[Instagram](https://www.instagram.com/ankit_rana_07/)\n",
    "[Github](https://github.com/Ankit161001)"
   ]
  },
  {
   "cell_type": "markdown",
   "id": "e934923a",
   "metadata": {},
   "source": [
    "### Importing all the necessary packages:\n",
    "- ```hashlib``` : for generating sha256 encoded hash\n",
    "- ```pandas``` : for creating dataframes for our sql tables\n",
    "- ```sqlite3``` : for handling sql operations in database\n",
    "- ```os.path``` : for getting the current working directory"
   ]
  },
  {
   "cell_type": "code",
   "execution_count": 1,
   "id": "0f729056",
   "metadata": {},
   "outputs": [],
   "source": [
    "import hashlib\n",
    "import pandas as pd\n",
    "import sqlite3\n",
    "import os.path"
   ]
  },
  {
   "cell_type": "markdown",
   "id": "36124fed",
   "metadata": {},
   "source": [
    "### Block DataFrame\n",
    "We use the ```DataFrame``` functon which we got from ```pandas``` module. The dataframe is being used for creating a frame for the database table which is going to store our ```blocks``` of the block-chain. "
   ]
  },
  {
   "cell_type": "code",
   "execution_count": 2,
   "id": "a4e7c462",
   "metadata": {},
   "outputs": [],
   "source": [
    "block = pd.DataFrame({\n",
    "    'prevhash':[],\n",
    "    'payer':[],\n",
    "    'receiver':[],\n",
    "    'amount':[],\n",
    "    'publickey':[],\n",
    "    'privatekey':[],\n",
    "    'timestamp':[],\n",
    "    'currenthash':[]\n",
    "})"
   ]
  },
  {
   "cell_type": "code",
   "execution_count": 3,
   "id": "09d341d0",
   "metadata": {},
   "outputs": [
    {
     "data": {
      "text/html": [
       "<div>\n",
       "<style scoped>\n",
       "    .dataframe tbody tr th:only-of-type {\n",
       "        vertical-align: middle;\n",
       "    }\n",
       "\n",
       "    .dataframe tbody tr th {\n",
       "        vertical-align: top;\n",
       "    }\n",
       "\n",
       "    .dataframe thead th {\n",
       "        text-align: right;\n",
       "    }\n",
       "</style>\n",
       "<table border=\"1\" class=\"dataframe\">\n",
       "  <thead>\n",
       "    <tr style=\"text-align: right;\">\n",
       "      <th></th>\n",
       "      <th>prevhash</th>\n",
       "      <th>payer</th>\n",
       "      <th>receiver</th>\n",
       "      <th>amount</th>\n",
       "      <th>publickey</th>\n",
       "      <th>privatekey</th>\n",
       "      <th>timestamp</th>\n",
       "      <th>currenthash</th>\n",
       "    </tr>\n",
       "  </thead>\n",
       "  <tbody>\n",
       "  </tbody>\n",
       "</table>\n",
       "</div>"
      ],
      "text/plain": [
       "Empty DataFrame\n",
       "Columns: [prevhash, payer, receiver, amount, publickey, privatekey, timestamp, currenthash]\n",
       "Index: []"
      ]
     },
     "execution_count": 3,
     "metadata": {},
     "output_type": "execute_result"
    }
   ],
   "source": [
    "block"
   ]
  },
  {
   "cell_type": "markdown",
   "id": "d4c91661",
   "metadata": {},
   "source": [
    "### Current Directory\n",
    "we use ```os.path``` functions in the following cell for:\n",
    "- ```os.path.dirname():``` for getting the directory in which the file is present\n",
    "- ```os.path.abspath(\"__file__\"):```for getting the absolute path\n",
    "- ```os.path.join():``` to join parts of directories to get current working directory\n",
    "<br>\n",
    "\n",
    "```sqlite3.connect()``` connects the database with our code"
   ]
  },
  {
   "cell_type": "code",
   "execution_count": 4,
   "id": "1f2d0459",
   "metadata": {},
   "outputs": [
    {
     "name": "stdout",
     "output_type": "stream",
     "text": [
      "D:\\Belucoin\n"
     ]
    }
   ],
   "source": [
    "BASE_DIR = os.path.dirname(os.path.abspath(\"__file__\"))\n",
    "print(BASE_DIR)\n",
    "db_path = os.path.join(BASE_DIR, \"belucoin_database.db\")\n",
    "\n",
    "cnn = sqlite3.connect(db_path)"
   ]
  },
  {
   "cell_type": "markdown",
   "id": "86ce3571",
   "metadata": {},
   "source": [
    "### ```blocks``` table is created"
   ]
  },
  {
   "cell_type": "code",
   "execution_count": 5,
   "id": "b701748c",
   "metadata": {},
   "outputs": [],
   "source": [
    "block.to_sql('blocks', cnn)"
   ]
  },
  {
   "cell_type": "markdown",
   "id": "5b7bb826",
   "metadata": {},
   "source": [
    "### External sql is loaded and database is connected with ext sql"
   ]
  },
  {
   "cell_type": "code",
   "execution_count": 6,
   "id": "9fc74ba0",
   "metadata": {},
   "outputs": [],
   "source": [
    "%load_ext sql"
   ]
  },
  {
   "cell_type": "code",
   "execution_count": 7,
   "id": "671cadc1",
   "metadata": {},
   "outputs": [],
   "source": [
    "%sql sqlite:///belucoin_database.db"
   ]
  },
  {
   "cell_type": "markdown",
   "id": "1782c475",
   "metadata": {},
   "source": [
    "### Magic sql block to view databases\n",
    "We will come across more of them as we advance. They are sql queries applied the database tables."
   ]
  },
  {
   "cell_type": "code",
   "execution_count": 8,
   "id": "9ef7b72d",
   "metadata": {},
   "outputs": [
    {
     "name": "stdout",
     "output_type": "stream",
     "text": [
      " * sqlite:///belucoin_database.db\n",
      "Done.\n"
     ]
    },
    {
     "data": {
      "text/html": [
       "<table>\n",
       "    <tr>\n",
       "        <th>index</th>\n",
       "        <th>prevhash</th>\n",
       "        <th>payer</th>\n",
       "        <th>receiver</th>\n",
       "        <th>amount</th>\n",
       "        <th>publickey</th>\n",
       "        <th>privatekey</th>\n",
       "        <th>timestamp</th>\n",
       "        <th>currenthash</th>\n",
       "    </tr>\n",
       "</table>"
      ],
      "text/plain": [
       "[]"
      ]
     },
     "execution_count": 8,
     "metadata": {},
     "output_type": "execute_result"
    }
   ],
   "source": [
    "%%sql\n",
    "\n",
    "select * from blocks;"
   ]
  },
  {
   "cell_type": "markdown",
   "id": "4e3ee332",
   "metadata": {},
   "source": [
    "### Importing modules related for timestamps"
   ]
  },
  {
   "cell_type": "code",
   "execution_count": 9,
   "id": "3d9b0f4f",
   "metadata": {},
   "outputs": [],
   "source": [
    "from datetime import datetime\n",
    "import calendar\n",
    "import time"
   ]
  },
  {
   "cell_type": "markdown",
   "id": "5dd7087d",
   "metadata": {},
   "source": [
    "### Temporary global variable for storing hash value\n",
    "This is because the blockchain has blocks whose previous blocks' hash is the same as the hash of its previous block. This makes it a \"chain\" in a more general sense. For example, let's consider three blocks below:\n",
    "\n",
    "| Block1 | Block2 | Block3        \n",
    "| :-: |:-: | :-:\n",
    "|Hash : 4fd7| Hash : 5d90 | Hash : 32dS\n",
    "|Previous Hash : 0000 | Previous Hash : 4fd7 | Previous Hash : 5d90"
   ]
  },
  {
   "cell_type": "code",
   "execution_count": 10,
   "id": "e9d095e0",
   "metadata": {},
   "outputs": [],
   "source": [
    "global temp_hash"
   ]
  },
  {
   "cell_type": "markdown",
   "id": "b2d0da75",
   "metadata": {},
   "source": [
    "### The Genesis Block\n",
    "The first block of every blockchain is the Genesis Block. It is called the Block 0. Every other transactional block is added behind the Genesis Block to form a chain of blocks."
   ]
  },
  {
   "cell_type": "code",
   "execution_count": 11,
   "id": "6198a03f",
   "metadata": {},
   "outputs": [],
   "source": [
    "#first ever block.... The GENESIS Block!!!\n",
    "now = datetime.now()\n",
    "gmt = time.gmtime()\n",
    "\n",
    "ct = now.strftime(\"%m/%d/%Y, %H:%M:%S\")\n",
    "\n",
    "string = 'beluga' + 'skittle' + ct\n",
    "encoded = string.encode()\n",
    "m = hashlib.sha256(encoded)\n",
    "\n",
    "index = 0\n",
    "prevhash = '000'\n",
    "payer = 'beluga'\n",
    "receiver = 'skittle'\n",
    "amount = '1'\n",
    "publickey = '000'\n",
    "privatekey = '000'\n",
    "timestamp = ct\n",
    "currenthash = m.hexdigest()\n",
    "\n",
    "cnn.execute(\"insert into blocks values (?, ?, ?, ?, ?, ?, ?, ?, ?)\", (index, prevhash, payer, receiver, amount, publickey,\n",
    "                                                                     privatekey, timestamp, currenthash))\n",
    "cnn.commit()\n",
    "\n",
    "global temp_hash\n",
    "temp_hash = currenthash"
   ]
  },
  {
   "cell_type": "markdown",
   "id": "0c57c03c",
   "metadata": {},
   "source": [
    "### User Dataframe\n",
    "This is the frame for the table which is going to store the details and history of the crypto transactional details of every user. "
   ]
  },
  {
   "cell_type": "code",
   "execution_count": 12,
   "id": "9c5eac42",
   "metadata": {},
   "outputs": [],
   "source": [
    "new_user = pd.DataFrame({\n",
    "    'payer':[],\n",
    "    'receiver':[],\n",
    "    'amount':[],\n",
    "    'publickey':[],\n",
    "    'privatekey':[],\n",
    "    'timestamp':[],\n",
    "    'operation':[],\n",
    "    'balance':[]\n",
    "})"
   ]
  },
  {
   "cell_type": "code",
   "execution_count": 13,
   "id": "dff5fad2",
   "metadata": {},
   "outputs": [
    {
     "data": {
      "text/html": [
       "<div>\n",
       "<style scoped>\n",
       "    .dataframe tbody tr th:only-of-type {\n",
       "        vertical-align: middle;\n",
       "    }\n",
       "\n",
       "    .dataframe tbody tr th {\n",
       "        vertical-align: top;\n",
       "    }\n",
       "\n",
       "    .dataframe thead th {\n",
       "        text-align: right;\n",
       "    }\n",
       "</style>\n",
       "<table border=\"1\" class=\"dataframe\">\n",
       "  <thead>\n",
       "    <tr style=\"text-align: right;\">\n",
       "      <th></th>\n",
       "      <th>payer</th>\n",
       "      <th>receiver</th>\n",
       "      <th>amount</th>\n",
       "      <th>publickey</th>\n",
       "      <th>privatekey</th>\n",
       "      <th>timestamp</th>\n",
       "      <th>operation</th>\n",
       "      <th>balance</th>\n",
       "    </tr>\n",
       "  </thead>\n",
       "  <tbody>\n",
       "  </tbody>\n",
       "</table>\n",
       "</div>"
      ],
      "text/plain": [
       "Empty DataFrame\n",
       "Columns: [payer, receiver, amount, publickey, privatekey, timestamp, operation, balance]\n",
       "Index: []"
      ]
     },
     "execution_count": 13,
     "metadata": {},
     "output_type": "execute_result"
    }
   ],
   "source": [
    "new_user"
   ]
  },
  {
   "cell_type": "markdown",
   "id": "87845b76",
   "metadata": {},
   "source": [
    "### User's Cash Balance Dataframe\n",
    "Crypto has to be bought with actual money. This dataframe is the structure of the table which is going to hold the history and the details of crypto to cash and cash to crypto transactions."
   ]
  },
  {
   "cell_type": "code",
   "execution_count": 14,
   "id": "05bba1e9",
   "metadata": {},
   "outputs": [],
   "source": [
    "bank_spreadsheet = pd.DataFrame({\n",
    "    'acc_holder':[],\n",
    "    'timestamp':[],\n",
    "    'amount':[],\n",
    "    'operation':[],\n",
    "    'transaction':[],\n",
    "    'balance':[]\n",
    "})"
   ]
  },
  {
   "cell_type": "code",
   "execution_count": 15,
   "id": "968d3eb9",
   "metadata": {},
   "outputs": [
    {
     "data": {
      "text/html": [
       "<div>\n",
       "<style scoped>\n",
       "    .dataframe tbody tr th:only-of-type {\n",
       "        vertical-align: middle;\n",
       "    }\n",
       "\n",
       "    .dataframe tbody tr th {\n",
       "        vertical-align: top;\n",
       "    }\n",
       "\n",
       "    .dataframe thead th {\n",
       "        text-align: right;\n",
       "    }\n",
       "</style>\n",
       "<table border=\"1\" class=\"dataframe\">\n",
       "  <thead>\n",
       "    <tr style=\"text-align: right;\">\n",
       "      <th></th>\n",
       "      <th>acc_holder</th>\n",
       "      <th>timestamp</th>\n",
       "      <th>amount</th>\n",
       "      <th>operation</th>\n",
       "      <th>transaction</th>\n",
       "      <th>balance</th>\n",
       "    </tr>\n",
       "  </thead>\n",
       "  <tbody>\n",
       "  </tbody>\n",
       "</table>\n",
       "</div>"
      ],
      "text/plain": [
       "Empty DataFrame\n",
       "Columns: [acc_holder, timestamp, amount, operation, transaction, balance]\n",
       "Index: []"
      ]
     },
     "execution_count": 15,
     "metadata": {},
     "output_type": "execute_result"
    }
   ],
   "source": [
    "bank_spreadsheet"
   ]
  },
  {
   "cell_type": "markdown",
   "id": "c4d2e887",
   "metadata": {},
   "source": [
    "### Crypto Coins DataFrame\n",
    "This is the frame which stores all the details of the total coins brought into circulation through mining."
   ]
  },
  {
   "cell_type": "code",
   "execution_count": 16,
   "id": "2fb42d70",
   "metadata": {},
   "outputs": [],
   "source": [
    "total_coins = pd.DataFrame({\n",
    "    'Transaction':[],\n",
    "    'Operation':[],\n",
    "    'Total_coins_in_circulation':[],\n",
    "})"
   ]
  },
  {
   "cell_type": "code",
   "execution_count": 17,
   "id": "8acf0e63",
   "metadata": {},
   "outputs": [
    {
     "data": {
      "text/html": [
       "<div>\n",
       "<style scoped>\n",
       "    .dataframe tbody tr th:only-of-type {\n",
       "        vertical-align: middle;\n",
       "    }\n",
       "\n",
       "    .dataframe tbody tr th {\n",
       "        vertical-align: top;\n",
       "    }\n",
       "\n",
       "    .dataframe thead th {\n",
       "        text-align: right;\n",
       "    }\n",
       "</style>\n",
       "<table border=\"1\" class=\"dataframe\">\n",
       "  <thead>\n",
       "    <tr style=\"text-align: right;\">\n",
       "      <th></th>\n",
       "      <th>Transaction</th>\n",
       "      <th>Operation</th>\n",
       "      <th>Total_coins_in_circulation</th>\n",
       "    </tr>\n",
       "  </thead>\n",
       "  <tbody>\n",
       "  </tbody>\n",
       "</table>\n",
       "</div>"
      ],
      "text/plain": [
       "Empty DataFrame\n",
       "Columns: [Transaction, Operation, Total_coins_in_circulation]\n",
       "Index: []"
      ]
     },
     "execution_count": 17,
     "metadata": {},
     "output_type": "execute_result"
    }
   ],
   "source": [
    "total_coins"
   ]
  },
  {
   "cell_type": "markdown",
   "id": "d7df2297",
   "metadata": {},
   "source": [
    "### ```Belucoins``` table is created"
   ]
  },
  {
   "cell_type": "code",
   "execution_count": 18,
   "id": "9187c9e5",
   "metadata": {},
   "outputs": [],
   "source": [
    "total_coins.to_sql('belucoins', cnn)"
   ]
  },
  {
   "cell_type": "markdown",
   "id": "94597569",
   "metadata": {},
   "source": [
    "### Global Index\n",
    "A global value for the transaction indices is initialized as all the transactions are supposed to have a unique identifiable index."
   ]
  },
  {
   "cell_type": "code",
   "execution_count": 19,
   "id": "a94adcf3",
   "metadata": {},
   "outputs": [],
   "source": [
    "global index"
   ]
  },
  {
   "cell_type": "markdown",
   "id": "f4b8f44c",
   "metadata": {},
   "source": [
    "### Initially 10 belucoins are circulated in the system ....."
   ]
  },
  {
   "cell_type": "code",
   "execution_count": 20,
   "id": "fb852dad",
   "metadata": {},
   "outputs": [
    {
     "name": "stdout",
     "output_type": "stream",
     "text": [
      "insert into belucoins values (1,'Initiatiation','additon',10)\n"
     ]
    }
   ],
   "source": [
    "name = 'belucoins'\n",
    "transaction = \"Initiatiation\"\n",
    "operation = \"additon\"\n",
    "total_coins = \"10\"\n",
    "\n",
    "global index\n",
    "index = index + 1\n",
    "index1 = str(index)\n",
    "\n",
    "string = \"insert into \" + name + \" values (\"+index1+\",\"+\"'\"+transaction+\"'\"+\",\"+\"'\"+operation+\"'\"+\",\"+total_coins+\")\"\n",
    "\n",
    "print(string)\n",
    "#string = \"insert into belucoins values(,\"Initiatiation\", \"additon\", 10)\n",
    "rows = cnn.execute(string)\n",
    "cnn.commit()"
   ]
  },
  {
   "cell_type": "markdown",
   "id": "21d1b82d",
   "metadata": {},
   "source": [
    "#### Another magic sql box\n",
    "Feel free to test out SQL queries to get the current state of all the tables."
   ]
  },
  {
   "cell_type": "code",
   "execution_count": 21,
   "id": "910d03e9",
   "metadata": {},
   "outputs": [
    {
     "name": "stdout",
     "output_type": "stream",
     "text": [
      " * sqlite:///belucoin_database.db\n",
      "Done.\n"
     ]
    },
    {
     "data": {
      "text/html": [
       "<table>\n",
       "    <tr>\n",
       "        <th>index</th>\n",
       "        <th>Transaction</th>\n",
       "        <th>Operation</th>\n",
       "        <th>Total_coins_in_circulation</th>\n",
       "    </tr>\n",
       "    <tr>\n",
       "        <td>1</td>\n",
       "        <td>Initiatiation</td>\n",
       "        <td>additon</td>\n",
       "        <td>10.0</td>\n",
       "    </tr>\n",
       "</table>"
      ],
      "text/plain": [
       "[(1, 'Initiatiation', 'additon', 10.0)]"
      ]
     },
     "execution_count": 21,
     "metadata": {},
     "output_type": "execute_result"
    }
   ],
   "source": [
    "%%sql\n",
    "\n",
    "select * from belucoins"
   ]
  },
  {
   "cell_type": "markdown",
   "id": "ea1051ec",
   "metadata": {},
   "source": [
    "### Function ```create_user()``` creates new users\n",
    "It creates tables for the user's crypto transactions as well as the table for the bank transactions. "
   ]
  },
  {
   "cell_type": "code",
   "execution_count": 22,
   "id": "7080a236",
   "metadata": {},
   "outputs": [],
   "source": [
    "def create_user(name, balance1):\n",
    "    new_user.to_sql(name, cnn)\n",
    "    \n",
    "    global index\n",
    "    index = index + 1\n",
    "    index1 = str(index)\n",
    "    \n",
    "    payer = \"Belucoin\"\n",
    "    receiver = name\n",
    "    amount = '0'\n",
    "    publickey = 'cv0'\n",
    "    privatekey = 'vv0'\n",
    "    gmt = time.gmtime()\n",
    "    timestamp = str(calendar.timegm(gmt))\n",
    "    operation = 'Initiation'\n",
    "    balance = '0'\n",
    "    \n",
    "    string = \"insert into \" + name + \" values (\"+index1+\",\"+\"'\"+payer+\"'\"+\",\"+\"'\"+receiver+\"'\"+\",\"+amount+\",\"+\"'\"+publickey+\"'\"+\",\"+\"'\"+privatekey+\"'\"+\",\"+\"'\"+timestamp+\"'\"+\",\"+\"'\"+operation+\"'\"+\",\"+balance+\")\"\n",
    "    rows = cnn.execute(string)\n",
    "    cnn.commit()\n",
    "    \n",
    "    bank = name + '_bank'\n",
    "    bank_spreadsheet.to_sql(bank, cnn)\n",
    "    \n",
    "    acc_holder = name\n",
    "    gmt = time.gmtime()\n",
    "    timestamp = str(calendar.timegm(gmt))\n",
    "    amount = str(balance1)\n",
    "    operation = \"account_open\"\n",
    "    transaction = \"bank_link\"\n",
    "    balance = str(balance1)\n",
    "    \n",
    "    index = index + 1\n",
    "    index1 = str(index)\n",
    "    \n",
    "    string = \"insert into \" + bank + \" values (\"+index1+\",\"+\"'\"+acc_holder+\"'\"+\",\"+\"'\"+timestamp+\"'\"+\",\"+amount+\",\"+\"'\"+operation+\"'\"+\",\"+\"'\"+transaction+\"'\"+\",\"+balance+\")\"\n",
    "    cnn.execute(string)\n",
    "    cnn.commit()"
   ]
  },
  {
   "cell_type": "markdown",
   "id": "d1d7d67e",
   "metadata": {},
   "source": [
    "### Mining\n",
    "Crypto mining can be simplified as the process of bringing in new crypto currency (Belucois in our case) into ciruclation.\n",
    "\n",
    "### The Mining Process\n",
    "- When a crypto transaction occurs the transaction details along with a sha256 hash code are packed into a block. \n",
    "- The block is then broadcasted / sent to every miner in the world.\n",
    "- The miners are then supposed to guess the sha256 hash code perfectly.\n",
    "- The miner who is able to guess the hash code precisely (Proof-of-work) before the other miners is then given the permission to add another block to the existing block-chain.\n",
    "- The fastest miner is then awarded with a predefined amount of crypto.\n",
    "- This newly generated / awarded crypto currency is hence brought into circulation.\n",
    "\n",
    "### Proof of Work and sha256\n",
    "As the name suggests ```sha256``` is an encoded code consisting of 256 bytes. This is a massive number and hence requires a lot of computational power to get the hash code precisely. The faster and more work the computer can perform, more are its chances of guessing it right and getting awarded. This guessing of the hash code is called Proof-of-Work."
   ]
  },
  {
   "cell_type": "markdown",
   "id": "ed790f45",
   "metadata": {},
   "source": [
    "### Simulation - Mining\n",
    "As we don't have the ability to scale this code up to a global level, nor do we have such a massive computational power, we are going to assign miners who are supposed to win the Proof-of-Work race.\n",
    "\n",
    "Feel free to change the winning miner's name. But be sure to check if the given name actually exists in the database. If not just create a new one using the ```Simulation - User Creation``` cell below.\n",
    "\n",
    "You can also change the amount of Belucoins the fastest miner is awarded."
   ]
  },
  {
   "cell_type": "code",
   "execution_count": 37,
   "id": "203f6ad4",
   "metadata": {},
   "outputs": [],
   "source": [
    "global miner\n",
    "miner = \"Deepali\"\n",
    "\n",
    "global payment\n",
    "payment = 2"
   ]
  },
  {
   "cell_type": "markdown",
   "id": "0e34d5dd",
   "metadata": {},
   "source": [
    "### Function ```mining()``` carries out mining\n",
    "This function adds new blocks to the ```blocks``` table and updates the total coins in circulation which the fastest miner has won."
   ]
  },
  {
   "cell_type": "code",
   "execution_count": 24,
   "id": "6a65d638",
   "metadata": {},
   "outputs": [],
   "source": [
    "def mining(index1, prevhash, payer1, receiver1, amount1, publickey1, privatekey1, timestamp, currenthash):\n",
    "    \n",
    "    cnn.execute(\"insert into blocks values (?, ?, ?, ?, ?, ?, ?, ?, ?)\", (index1, prevhash, payer1, receiver1, amount1, publickey1,\n",
    "                                                                     privatekey1, timestamp, currenthash))\n",
    "    cnn.commit()\n",
    "    \n",
    "    global temp_hash\n",
    "    temp_hash = currenthash\n",
    "    \n",
    "    name = miner\n",
    "    string = \"select * from \" + miner\n",
    "    \n",
    "    cursor = cnn.cursor()\n",
    "    cursor.execute(string)\n",
    "    records = cursor.fetchall()\n",
    "    \n",
    "    for row in records:\n",
    "        balance = row[8]\n",
    "    \n",
    "    #for row in rows:\n",
    "        #last_row = row\n",
    "    \n",
    "    #balance = last_row[7]\n",
    "    balance = balance + payment\n",
    "    balance1 = str(balance)\n",
    "    cursor.close()\n",
    "    amount1 = str(amount)\n",
    "    operation = \"mining\"\n",
    "    \n",
    "    global index\n",
    "    index = index + 1\n",
    "    index1 = str(index)\n",
    "    \n",
    "    string = \"insert into \" + name + \" values (\"+index1+\",\"+\"'\"+payer+\"'\"+\",\"+\"'\"+receiver+\"'\"+\",\"+amount1+\",\"+\"'\"+publickey+\"'\"+\",\"+\"'\"+privatekey+\"'\"+\",\"+\"'\"+timestamp+\"'\"+\",\"+\"'\"+operation+\"'\"+\",\"+balance1+\")\"\n",
    "    rows = cnn.execute(string)\n",
    "    cnn.commit()\n",
    "    \n",
    "    name = \"belucoins\"\n",
    "    string = \"select * from \" + name\n",
    "    \n",
    "    cursor = cnn.cursor()\n",
    "    cursor.execute(string)\n",
    "    records = cursor.fetchall()\n",
    "    \n",
    "    for row in records:\n",
    "        total_coins = row[3]\n",
    "    #rows = cnn.execute(string)\n",
    "    \n",
    "    #for row in rows:\n",
    "        #last_row = row\n",
    "    \n",
    "    #total_coins = last_row[7]\n",
    "    total_coins = balance + payment\n",
    "    total_coins = str(total_coins)\n",
    "    \n",
    "    transaction = \"Coin_generated\"\n",
    "    operation = \"additon\"\n",
    "    cursor.close()\n",
    "    \n",
    "    index = index + 1\n",
    "    index1 = str(index)\n",
    "    \n",
    "    string = \"insert into \" + name + \" values (\"+index1+\",\"+\"'\"+transaction+\"'\"+\",\"+\"'\"+operation+\"'\"+\",\"+total_coins+\")\"\n",
    "    rows = cnn.execute(string)\n",
    "    cnn.commit()"
   ]
  },
  {
   "cell_type": "markdown",
   "id": "9df60fec",
   "metadata": {},
   "source": [
    "### Function ```blocking()``` creates new blocks to be added to the chain\n",
    "Whenever a new transaction takes place, a block containing all the transaction details is stored in a block along with the calculated ```sha256``` hash. This block is then sent to the ```mining()``` function."
   ]
  },
  {
   "cell_type": "code",
   "execution_count": 25,
   "id": "0d9bb52d",
   "metadata": {},
   "outputs": [],
   "source": [
    "def blocking(payer, receiver, amount, ts, publickey, privatekey, ct, timestamp, operation):\n",
    "    name = receiver\n",
    "    string = \"select * from blocks\"\n",
    "    \n",
    "    cursor = cnn.cursor()\n",
    "    cursor.execute(string)\n",
    "    records = cursor.fetchall()\n",
    "    \n",
    "    for row in records:\n",
    "        indic = row[0]\n",
    "    \n",
    "    for row in rows:\n",
    "        last_row = row\n",
    "    \n",
    "    #index = last_row[0]\n",
    "    indic = indic + 1\n",
    "    \n",
    "    cursor.close()\n",
    "    \n",
    "    now = datetime.now()\n",
    "    ct = now.strftime(\"%m/%d/%Y, %H:%M:%S\")\n",
    "\n",
    "    string = payer + receiver + ct\n",
    "    encoded = string.encode()\n",
    "    m = hashlib.sha256(encoded)\n",
    "    \n",
    "    global temp_hash\n",
    "    index1 = indic\n",
    "    prevhash = temp_hash\n",
    "    payer1 = payer\n",
    "    receiver1 = receiver\n",
    "    amount1 = amount\n",
    "    publickey1 = publickey\n",
    "    privatekey1 = privatekey\n",
    "    timestamp = ct\n",
    "    currenthash = m.hexdigest()\n",
    "    \n",
    "    temp_hash = currenthash\n",
    "    \n",
    "    mining(index1, prevhash, payer1, receiver1, amount1, publickey1, privatekey1, timestamp, currenthash)"
   ]
  },
  {
   "cell_type": "markdown",
   "id": "d02c2a55",
   "metadata": {},
   "source": [
    "### Function ```transfer()``` transfers crypto between users\n",
    "It updates the database of both the paying and the receiving users who have conducted the transaction operation."
   ]
  },
  {
   "cell_type": "code",
   "execution_count": 26,
   "id": "9706dcdc",
   "metadata": {},
   "outputs": [],
   "source": [
    "def transfer(payer, receiver, amount, ts, publickey, privatekey, ct, timestamp, operation):\n",
    "    cursor = cnn.cursor()\n",
    "    name = payer\n",
    "    last_row = ()\n",
    "    string = \"select * from \" + name\n",
    "    cursor.execute(string)\n",
    "    records = cursor.fetchall()\n",
    "    \n",
    "    for row in records:\n",
    "        balance = row[8]\n",
    "    \n",
    "    #for row in rows:\n",
    "        #last_row = row\n",
    "    \n",
    "    #balance = last_row[8]\n",
    "    balance = balance - amount\n",
    "    balance = str(balance)\n",
    "    amount1 = str(amount)\n",
    "    \n",
    "    cursor.close()\n",
    "    \n",
    "    global index\n",
    "    index = index + 1\n",
    "    index1 = str(index)\n",
    "    \n",
    "    #cursor = cnn.cursor()\n",
    "    \n",
    "    string = \"insert into \" + name + \" values (\"+index1+\",\"+\"'\"+payer+\"'\"+\",\"+\"'\"+receiver+\"'\"+\",\"+amount1+\",\"+\"'\"+publickey+\"'\"+\",\"+\"'\"+privatekey+\"'\"+\",\"+\"'\"+timestamp+\"'\"+\",\"+\"'\"+operation+\"'\"+\",\"+balance+\")\"\n",
    "    cnn.execute(string)\n",
    "    #cursor.execute(string)\n",
    "    cnn.commit()\n",
    "    #cursor.commit()\n",
    "    #cursor.close()\n",
    "    \n",
    "    cursor = cnn.cursor()\n",
    "    \n",
    "    name = receiver\n",
    "    string = \"select * from \" + name\n",
    "    #rows = cnn.execute(string)\n",
    "    cursor.execute(string)\n",
    "    records = cursor.fetchall()\n",
    "    \n",
    "    for row in records:\n",
    "        balance = row[8]\n",
    "    \n",
    "    #for row in rows:\n",
    "        #last_row = row\n",
    "    \n",
    "    #balance = last_row[7]\n",
    "    balance = balance + amount\n",
    "    balance = str(balance)\n",
    "    amount1 = str(amount)\n",
    "    \n",
    "    cursor.close()\n",
    "    \n",
    "    index = index + 1\n",
    "    index1 = str(index)\n",
    "    \n",
    "    #cursor = cnn.cursor()\n",
    "    \n",
    "    string = \"insert into \" + name + \" values (\"+index1+\",\"+\"'\"+payer+\"'\"+\",\"+\"'\"+receiver+\"'\"+\",\"+amount1+\",\"+\"'\"+publickey+\"'\"+\",\"+\"'\"+privatekey+\"'\"+\",\"+\"'\"+timestamp+\"'\"+\",\"+\"'\"+operation+\"'\"+\",\"+balance+\")\"\n",
    "    cnn.execute(string)\n",
    "    #cursor.execute(string)\n",
    "    cnn.commit()\n",
    "    #cursor.commit()\n",
    "    #cursor.close()"
   ]
  },
  {
   "cell_type": "markdown",
   "id": "5344ed92",
   "metadata": {},
   "source": [
    "### Function ```purchase()``` exchanges cash for crypto\n",
    "Users need to pay real money in exchange for crypto. Hence this funciton deducts actual money from user's bank balance and adds crypto currency to the user's crypto balance."
   ]
  },
  {
   "cell_type": "code",
   "execution_count": 27,
   "id": "8cb0fe70",
   "metadata": {},
   "outputs": [],
   "source": [
    "def purchase(payer, receiver, amount, ts, publickey, privatekey, ct, timestamp, operation, payable):\n",
    "    name = payer\n",
    "    balance = 0\n",
    "    string = \"select * from \" + name\n",
    "    #rows = cnn.execute(string)\n",
    "    \n",
    "    cursor = cnn.cursor()\n",
    "    cursor.execute(string)\n",
    "    records = cursor.fetchall()\n",
    "    \n",
    "    for row in records:\n",
    "        balance = row[8]\n",
    "    \n",
    "    #for row in rows:\n",
    "        #last_row = row\n",
    "    \n",
    "    #balance = last_row[8]\n",
    "    balance = balance + amount\n",
    "    balance1 = str(balance)\n",
    "    amount1 = str(amount)\n",
    "    cursor.close()\n",
    "    \n",
    "    global index\n",
    "    index = index + 1\n",
    "    index1 = str(index)\n",
    "    \n",
    "    string = \"insert into \" + name + \" values (\"+index1+\",\"+\"'\"+payer+\"'\"+\",\"+\"'\"+receiver+\"'\"+\",\"+amount1+\",\"+\"'\"+publickey+\"'\"+\",\"+\"'\"+privatekey+\"'\"+\",\"+\"'\"+timestamp+\"'\"+\",\"+\"'\"+operation+\"'\"+\",\"+balance1+\")\"\n",
    "    cnn.execute(string)\n",
    "    cnn.commit()\n",
    "    \n",
    "    acc_holder = name\n",
    "    bank = acc_holder + '_bank'\n",
    "    string = \"select * from \" + bank\n",
    "    #rows = cnn.execute(string)\n",
    "    cursor = cnn.cursor()\n",
    "    cursor.execute(string)\n",
    "    records = cursor.fetchall()\n",
    "    \n",
    "    for row in records:\n",
    "        balance = row[6]\n",
    "    \n",
    "    #for row in rows:\n",
    "        #last_row = row\n",
    "    \n",
    "    #balance = last_row[6]\n",
    "    balance = balance - payable\n",
    "    balance1 = str(balance)\n",
    "    \n",
    "    gmt = time.gmtime()\n",
    "    timestamp = str(calendar.timegm(gmt))\n",
    "    #amount = str(payable)\n",
    "    operation = \"belucoin_purchased\"\n",
    "    transaction = \"purchase\"\n",
    "    amount1 = str(amount)\n",
    "    cursor.close()\n",
    "    \n",
    "    index = index + 1\n",
    "    index1 = str(index)\n",
    "    \n",
    "    string = \"insert into \" + bank + \" values (\"+index1+\",\"+\"'\"+acc_holder+\"'\"+\",\"+\"'\"+timestamp+\"'\"+\",\"+amount1+\",\"+\"'\"+operation+\"'\"+\",\"+\"'\"+transaction+\"'\"+\",\"+balance1+\")\"\n",
    "    cnn.execute(string)\n",
    "    cnn.commit()"
   ]
  },
  {
   "cell_type": "markdown",
   "id": "03b5f59b",
   "metadata": {},
   "source": [
    "### Function ```sell()``` trades crypto for actual cash\n",
    "The users might sell available crypto coins for cash. Hence the crypto balance is deducted and the bank's cash balance is credited."
   ]
  },
  {
   "cell_type": "code",
   "execution_count": 28,
   "id": "290fddfb",
   "metadata": {},
   "outputs": [],
   "source": [
    "def sell(payer, receiver, amount, ts, publickey, privatekey, ct, timestamp, operation, payable):\n",
    "    name = receiver\n",
    "    string = \"select * from \" + name\n",
    "    #rows = cnn.execute(string)\n",
    "    \n",
    "    cursor = cnn.cursor()\n",
    "    cursor.execute(string)\n",
    "    records = cursor.fetchall()\n",
    "    \n",
    "    for row in records:\n",
    "        balance = row[8]\n",
    "    \n",
    "    #for row in rows:\n",
    "        #last_row = row\n",
    "    \n",
    "    #balance = last_row[8]\n",
    "    balance = balance - amount\n",
    "    balance1 = str(balance)\n",
    "    amount1 = str(amount)\n",
    "    operation = \"selling_coins\"\n",
    "    cursor.close()\n",
    "    \n",
    "    global index\n",
    "    index = index + 1\n",
    "    index1 = str(index)\n",
    "    \n",
    "    string = \"insert into \" + name + \" values (\"+index1+\",\"+\"'\"+payer+\"'\"+\",\"+\"'\"+receiver+\"'\"+\",\"+amount1+\",\"+\"'\"+publickey+\"'\"+\",\"+\"'\"+privatekey+\"'\"+\",\"+\"'\"+timestamp+\"'\"+\",\"+\"'\"+operation+\"'\"+\",\"+balance1+\")\"\n",
    "    cnn.execute(string)\n",
    "    cnn.commit()\n",
    "    \n",
    "    acc_holder = name\n",
    "    bank = acc_holder + '_bank'\n",
    "    string = \"select * from \" + bank\n",
    "    #rows = cnn.execute(string)\n",
    "    \n",
    "    cursor = cnn.cursor()\n",
    "    cursor.execute(string)\n",
    "    records = cursor.fetchall()\n",
    "    \n",
    "    for row in records:\n",
    "        balance = row[6]\n",
    "    \n",
    "    #for row in rows:\n",
    "        #last_row = row\n",
    "    \n",
    "    #balance = last_row[6]\n",
    "    balance = balance + payable\n",
    "    balance1 = str(balance)\n",
    "    \n",
    "    gmt = time.gmtime()\n",
    "    timestamp = str(calendar.timegm(gmt))\n",
    "    amount = str(payable)\n",
    "    operation = \"belucoin_sold\"\n",
    "    transaction = \"sell_coins\"\n",
    "    amount1 = str(amount)\n",
    "    cursor.close()\n",
    "    \n",
    "    index = index + 1\n",
    "    index1 = str(index)\n",
    "    \n",
    "    string = \"insert into \" + bank + \" values (\"+index1+\",\"+\"'\"+acc_holder+\"'\"+\",\"+\"'\"+timestamp+\"'\"+\",\"+amount1+\",\"+\"'\"+operation+\"'\"+\",\"+\"'\"+transaction+\"'\"+\",\"+balance1+\")\"\n",
    "    cnn.execute(string)\n",
    "    cnn.commit()"
   ]
  },
  {
   "cell_type": "markdown",
   "id": "7712a8b5",
   "metadata": {},
   "source": [
    "### Function ```add_bal()``` adds money to the users cash balance\n",
    "If the money becomes short for purchasing belucoins then the user can add cash balance which in turn can be exchanged for belucoins."
   ]
  },
  {
   "cell_type": "code",
   "execution_count": 29,
   "id": "b327341d",
   "metadata": {},
   "outputs": [],
   "source": [
    "def add_bal(name, amount):\n",
    "    bank = name + '_bank'\n",
    "    acc_holder = name\n",
    "    gmt = time.gmtime()\n",
    "    timestamp = str(calendar.timegm(gmt))\n",
    "    string = \"select * from \" + bank\n",
    "    cursor = cnn.cursor()\n",
    "    cursor.execute(string)\n",
    "    records = cursor.fetchall()\n",
    "    \n",
    "    for row in records:\n",
    "        balance = row[6]\n",
    "    \n",
    "    #for row in rows:\n",
    "        #last_row = row\n",
    "    \n",
    "    #balance = last_row[6]\n",
    "    balance = balance + amount\n",
    "    balance1 = str(balance)\n",
    "    amount = str(amount)\n",
    "    operation = \"add_balance\"\n",
    "    transaction = \"bal_inc\"\n",
    "    \n",
    "    global index\n",
    "    index = index + 1\n",
    "    index1 = str(index)\n",
    "    \n",
    "    string = \"insert into \" + bank + \" values (\"+index1+\",\"+\"'\"+acc_holder+\"'\"+\",\"+\"'\"+timestamp+\"'\"+\",\"+amount+\",\"+\"'\"+operation+\"'\"+\",\"+\"'\"+transaction+\"'\"+\",\"+balance1+\")\"\n",
    "    cnn.execute(string)\n",
    "    cnn.commit()"
   ]
  },
  {
   "cell_type": "markdown",
   "id": "68867e46",
   "metadata": {},
   "source": [
    "### Simulation - User Creation\n",
    "If a user is not existing in the database, the ```name``` can be added here to create a new user profile.\n",
    "<br>\n",
    "\n",
    "Also his / her ```bank_balance``` has to be mentioned before executing the cell."
   ]
  },
  {
   "cell_type": "code",
   "execution_count": 32,
   "id": "cd72b6f6",
   "metadata": {},
   "outputs": [],
   "source": [
    "#User's decisions\n",
    "\n",
    "#if user in new... register new user....\n",
    "name = \"Nabaneeta\"\n",
    "bank_balance = 700\n",
    "create_user(name, bank_balance)"
   ]
  },
  {
   "cell_type": "markdown",
   "id": "b75f7768",
   "metadata": {},
   "source": [
    "#### Another magic sql box\n",
    "Feel free to test out SQL queries to get the current state of all the tables."
   ]
  },
  {
   "cell_type": "code",
   "execution_count": 33,
   "id": "cb9a4772",
   "metadata": {},
   "outputs": [
    {
     "name": "stdout",
     "output_type": "stream",
     "text": [
      " * sqlite:///belucoin_database.db\n",
      "Done.\n"
     ]
    },
    {
     "data": {
      "text/html": [
       "<table>\n",
       "    <tr>\n",
       "        <th>index</th>\n",
       "        <th>payer</th>\n",
       "        <th>receiver</th>\n",
       "        <th>amount</th>\n",
       "        <th>publickey</th>\n",
       "        <th>privatekey</th>\n",
       "        <th>timestamp</th>\n",
       "        <th>operation</th>\n",
       "        <th>balance</th>\n",
       "    </tr>\n",
       "    <tr>\n",
       "        <td>2</td>\n",
       "        <td>Belucoin</td>\n",
       "        <td>Ankit</td>\n",
       "        <td>0.0</td>\n",
       "        <td>cv0</td>\n",
       "        <td>vv0</td>\n",
       "        <td>1644936878.0</td>\n",
       "        <td>Initiation</td>\n",
       "        <td>0.0</td>\n",
       "    </tr>\n",
       "</table>"
      ],
      "text/plain": [
       "[(2, 'Belucoin', 'Ankit', 0.0, 'cv0', 'vv0', 1644936878.0, 'Initiation', 0.0)]"
      ]
     },
     "execution_count": 33,
     "metadata": {},
     "output_type": "execute_result"
    }
   ],
   "source": [
    "%%sql\n",
    "\n",
    "select * from Ankit;"
   ]
  },
  {
   "cell_type": "markdown",
   "id": "155f8f18",
   "metadata": {},
   "source": [
    "### Simulation - Transactions between Users\n",
    "This simulates the transfer of crypto between existing users. \n",
    "<br>\n",
    "Be sure to mention the values of ```payer```, ```receiver``` and ```amount``` fields.\n",
    "<br>\n",
    "```NOTE:``` The field ```privatekey``` has to be filled in as they are kept private by each user (as in passwords)."
   ]
  },
  {
   "cell_type": "code",
   "execution_count": 36,
   "id": "162a1bd8",
   "metadata": {},
   "outputs": [],
   "source": [
    "#if user already exists...proceed to transactions\n",
    "#transfer of coins::\n",
    "payer = 'Ankit'\n",
    "receiver = 'Deepali'\n",
    "amount = 5\n",
    "\n",
    "gmt = time.gmtime()\n",
    "ts = str(calendar.timegm(gmt))\n",
    "publickey = payer[0] + receiver[0] + ts\n",
    "privatekey = 'ccx45d'\n",
    "now = datetime.now()\n",
    "ct = now.strftime(\"%m/%d/%Y, %H:%M:%S\")\n",
    "timestamp = ct\n",
    "operation = 'substraction'\n",
    "\n",
    "transfer(payer, receiver, amount, ts, publickey, privatekey, ct, timestamp, operation)\n",
    "blocking(payer, receiver, amount, ts, publickey, privatekey, ct, timestamp, operation)"
   ]
  },
  {
   "cell_type": "markdown",
   "id": "406762fa",
   "metadata": {},
   "source": [
    "#### Printing the ```temp_hash``` just for experimental purposes\n",
    "This step can be skipped"
   ]
  },
  {
   "cell_type": "code",
   "execution_count": 62,
   "id": "40a294f6",
   "metadata": {},
   "outputs": [
    {
     "name": "stdout",
     "output_type": "stream",
     "text": [
      "c3b4d328462975dddfcd6e725d324d4f9cdc604d590c8310f50f76941a9cf233\n"
     ]
    }
   ],
   "source": [
    "print(temp_hash)"
   ]
  },
  {
   "cell_type": "markdown",
   "id": "767327dc",
   "metadata": {},
   "source": [
    "#### Another magic sql box\n",
    "Feel free to test out SQL queries to get the current state of all the tables."
   ]
  },
  {
   "cell_type": "code",
   "execution_count": 44,
   "id": "ec66da71",
   "metadata": {},
   "outputs": [
    {
     "name": "stdout",
     "output_type": "stream",
     "text": [
      " * sqlite:///belucoin_database.db\n",
      "Done.\n"
     ]
    },
    {
     "data": {
      "text/html": [
       "<table>\n",
       "    <tr>\n",
       "        <th>index</th>\n",
       "        <th>prevhash</th>\n",
       "        <th>payer</th>\n",
       "        <th>receiver</th>\n",
       "        <th>amount</th>\n",
       "        <th>publickey</th>\n",
       "        <th>privatekey</th>\n",
       "        <th>timestamp</th>\n",
       "        <th>currenthash</th>\n",
       "    </tr>\n",
       "    <tr>\n",
       "        <td>0</td>\n",
       "        <td>0.0</td>\n",
       "        <td>beluga</td>\n",
       "        <td>skittle</td>\n",
       "        <td>1.0</td>\n",
       "        <td>0.0</td>\n",
       "        <td>0.0</td>\n",
       "        <td>02/13/2022, 21:29:53</td>\n",
       "        <td>cc897b733ca5f1a153928e16fdfbc9b74936eb2ad9b1ea52d4337ab4938d839e</td>\n",
       "    </tr>\n",
       "    <tr>\n",
       "        <td>1</td>\n",
       "        <td>cc897b733ca5f1a153928e16fdfbc9b74936eb2ad9b1ea52d4337ab4938d839e</td>\n",
       "        <td>Ankit</td>\n",
       "        <td>Belucoin_corp</td>\n",
       "        <td>10.0</td>\n",
       "        <td>AB1644768075</td>\n",
       "        <td></td>\n",
       "        <td>02/13/2022, 21:31:17</td>\n",
       "        <td>2c36c331e16ce3bc87c6ed74a5e84508c0734725160c7f25346773e78b42ab2d</td>\n",
       "    </tr>\n",
       "    <tr>\n",
       "        <td>2</td>\n",
       "        <td>2c36c331e16ce3bc87c6ed74a5e84508c0734725160c7f25346773e78b42ab2d</td>\n",
       "        <td>Ankit</td>\n",
       "        <td>Deepali</td>\n",
       "        <td>5.0</td>\n",
       "        <td>AD1644768116</td>\n",
       "        <td></td>\n",
       "        <td>02/13/2022, 21:31:57</td>\n",
       "        <td>01ac21e57b04a41d3990b4acf2196f69534593e21df316346fe111311c697c58</td>\n",
       "    </tr>\n",
       "    <tr>\n",
       "        <td>3</td>\n",
       "        <td>01ac21e57b04a41d3990b4acf2196f69534593e21df316346fe111311c697c58</td>\n",
       "        <td>Belucoin_corp</td>\n",
       "        <td>Ankit</td>\n",
       "        <td>2.0</td>\n",
       "        <td>BA1644768227</td>\n",
       "        <td></td>\n",
       "        <td>02/13/2022, 21:33:47</td>\n",
       "        <td>05a4c8944d1ee0b0ddbab1ef89d8a39b7082307d803da3cea789cf38661872e1</td>\n",
       "    </tr>\n",
       "</table>"
      ],
      "text/plain": [
       "[(0, 0.0, 'beluga', 'skittle', 1.0, 0.0, 0.0, '02/13/2022, 21:29:53', 'cc897b733ca5f1a153928e16fdfbc9b74936eb2ad9b1ea52d4337ab4938d839e'),\n",
       " (1, 'cc897b733ca5f1a153928e16fdfbc9b74936eb2ad9b1ea52d4337ab4938d839e', 'Ankit', 'Belucoin_corp', 10.0, 'AB1644768075', '', '02/13/2022, 21:31:17', '2c36c331e16ce3bc87c6ed74a5e84508c0734725160c7f25346773e78b42ab2d'),\n",
       " (2, '2c36c331e16ce3bc87c6ed74a5e84508c0734725160c7f25346773e78b42ab2d', 'Ankit', 'Deepali', 5.0, 'AD1644768116', '', '02/13/2022, 21:31:57', '01ac21e57b04a41d3990b4acf2196f69534593e21df316346fe111311c697c58'),\n",
       " (3, '01ac21e57b04a41d3990b4acf2196f69534593e21df316346fe111311c697c58', 'Belucoin_corp', 'Ankit', 2.0, 'BA1644768227', '', '02/13/2022, 21:33:47', '05a4c8944d1ee0b0ddbab1ef89d8a39b7082307d803da3cea789cf38661872e1')]"
      ]
     },
     "execution_count": 44,
     "metadata": {},
     "output_type": "execute_result"
    }
   ],
   "source": [
    "%%sql\n",
    "\n",
    "select * from blocks;"
   ]
  },
  {
   "cell_type": "markdown",
   "id": "f83800f2",
   "metadata": {},
   "source": [
    "### Simulation - Purchase Coins\n",
    "This simulates the user's transaction of exchanging real cash for crypto-currency (Belucoins in our case).\n",
    "<br>\n",
    "Feel free to change the ```payer```, ```amount``` and the ```current_price_per_belucoin``` field values.\n",
    "<br>\n",
    "```current_price_per_belucoin``` is the cost of one belucoin in the real currency.\n",
    "<br>\n",
    "```WARNING:``` Do not change the ```receiver``` field value.\n",
    "<br>\n",
    "```NOTE:``` The field ```privatekey``` has to be filled in as they are kept private by each user (as in passwords)."
   ]
  },
  {
   "cell_type": "code",
   "execution_count": 35,
   "id": "2552e34b",
   "metadata": {},
   "outputs": [],
   "source": [
    "#purchase coins::\n",
    "\n",
    "current_price_per_belucoin = 50\n",
    "\n",
    "payer = 'Deepali'\n",
    "receiver = 'Belucoin_corp'\n",
    "amount = 5\n",
    "\n",
    "payable = amount * current_price_per_belucoin\n",
    "\n",
    "gmt = time.gmtime()\n",
    "ts = str(calendar.timegm(gmt))\n",
    "publickey = payer[0] + receiver[0] + ts\n",
    "privatekey = 'ccx340'\n",
    "now = datetime.now()\n",
    "ct = now.strftime(\"%m/%d/%Y, %H:%M:%S\")\n",
    "timestamp = ct\n",
    "operation = 'bought_coins'\n",
    "\n",
    "purchase(payer, receiver, amount, ts, publickey, privatekey, ct, timestamp, operation, payable)\n",
    "blocking(payer, receiver, amount, ts, publickey, privatekey, ct, timestamp, operation)"
   ]
  },
  {
   "cell_type": "markdown",
   "id": "1f123c25",
   "metadata": {},
   "source": [
    "### Simulation - Sell Coins\n",
    "This simulates the user's transaction of exchanging crypto-currency (Belucoins in our case) for real cash.\n",
    "<br>\n",
    "Feel free to change the ```receiver```, ```amount``` and the ```current_price_per_belucoin``` field values.\n",
    "<br>\n",
    "```current_price_per_belucoin``` is the cost of one belucoin in the real currency.\n",
    "<br>\n",
    "```WARNING:``` Do not change the ```payer``` field value.\n",
    "<br>\n",
    "```NOTE:``` The field ```privatekey``` has to be filled in as they are kept private by each user (as in passwords)."
   ]
  },
  {
   "cell_type": "code",
   "execution_count": 38,
   "id": "6b5b902f",
   "metadata": {},
   "outputs": [],
   "source": [
    "#sell coins::\n",
    "\n",
    "current_price_per_belucoin = 50\n",
    "\n",
    "payer = 'Belucoin_corp'\n",
    "receiver = 'Nabaneeta'\n",
    "amount = 3\n",
    "\n",
    "payable = amount * current_price_per_belucoin\n",
    "\n",
    "gmt = time.gmtime()\n",
    "ts = str(calendar.timegm(gmt))\n",
    "publickey = payer[0] + receiver[0] + ts\n",
    "privatekey = ''\n",
    "now = datetime.now()\n",
    "ct = now.strftime(\"%m/%d/%Y, %H:%M:%S\")\n",
    "timestamp = ct\n",
    "operation = 'bought_coins'\n",
    "\n",
    "sell(payer, receiver, amount, ts, publickey, privatekey, ct, timestamp, operation, payable)\n",
    "blocking(payer, receiver, amount, ts, publickey, privatekey, ct, timestamp, operation)"
   ]
  },
  {
   "cell_type": "markdown",
   "id": "708f8581",
   "metadata": {},
   "source": [
    "### Simulation - Adding Cash to Bank Balance\n",
    "In case the user runs short of cash, He can add in money to his bank (cash) account.\n",
    "<br>\n",
    "Feel free to change the ```acc_holder``` (account holder's name) and ```to_add``` (cash to be added to account) field values."
   ]
  },
  {
   "cell_type": "code",
   "execution_count": 39,
   "id": "ce0ea8fa",
   "metadata": {},
   "outputs": [],
   "source": [
    "#add bank_balance::\n",
    "\n",
    "acc_holder = \"Nabaneeta\"\n",
    "to_add = 500\n",
    "\n",
    "add_bal(acc_holder, to_add)"
   ]
  },
  {
   "cell_type": "markdown",
   "id": "d9496792",
   "metadata": {},
   "source": [
    "### Thanks for stickin around till the end! 😇⭐"
   ]
  },
  {
   "cell_type": "markdown",
   "id": "6a9b5480",
   "metadata": {},
   "source": [
    "#### After performing some transactions for demo purposes... the following are the database table states:"
   ]
  },
  {
   "cell_type": "code",
   "execution_count": 40,
   "id": "19d8941e",
   "metadata": {},
   "outputs": [
    {
     "name": "stdout",
     "output_type": "stream",
     "text": [
      " * sqlite:///belucoin_database.db\n",
      "Done.\n"
     ]
    },
    {
     "data": {
      "text/html": [
       "<table>\n",
       "    <tr>\n",
       "        <th>index</th>\n",
       "        <th>prevhash</th>\n",
       "        <th>payer</th>\n",
       "        <th>receiver</th>\n",
       "        <th>amount</th>\n",
       "        <th>publickey</th>\n",
       "        <th>privatekey</th>\n",
       "        <th>timestamp</th>\n",
       "        <th>currenthash</th>\n",
       "    </tr>\n",
       "    <tr>\n",
       "        <td>0</td>\n",
       "        <td>0.0</td>\n",
       "        <td>beluga</td>\n",
       "        <td>skittle</td>\n",
       "        <td>1.0</td>\n",
       "        <td>0.0</td>\n",
       "        <td>0.0</td>\n",
       "        <td>02/15/2022, 20:23:51</td>\n",
       "        <td>842c7636e1f5f3f4440f64b15280a1534ba6c31e5889d2cdd93e73cc630ba3a5</td>\n",
       "    </tr>\n",
       "    <tr>\n",
       "        <td>1</td>\n",
       "        <td>842c7636e1f5f3f4440f64b15280a1534ba6c31e5889d2cdd93e73cc630ba3a5</td>\n",
       "        <td>Ankit</td>\n",
       "        <td>Belucoin_corp</td>\n",
       "        <td>10.0</td>\n",
       "        <td>AB1644936972</td>\n",
       "        <td>ccx340</td>\n",
       "        <td>02/15/2022, 20:26:14</td>\n",
       "        <td>bbb56b0e8d0e80fed91ecb036d767792039ed2af3c9c3eaf46f2b3abcef35a1c</td>\n",
       "    </tr>\n",
       "    <tr>\n",
       "        <td>2</td>\n",
       "        <td>bbb56b0e8d0e80fed91ecb036d767792039ed2af3c9c3eaf46f2b3abcef35a1c</td>\n",
       "        <td>Deepali</td>\n",
       "        <td>Belucoin_corp</td>\n",
       "        <td>5.0</td>\n",
       "        <td>DB1644936984</td>\n",
       "        <td>ccx340</td>\n",
       "        <td>02/15/2022, 20:26:24</td>\n",
       "        <td>4fb656e78d914bf25588d669d4ac2c092ec9574ac3df7d59d4a6ba7a9cc29165</td>\n",
       "    </tr>\n",
       "    <tr>\n",
       "        <td>3</td>\n",
       "        <td>4fb656e78d914bf25588d669d4ac2c092ec9574ac3df7d59d4a6ba7a9cc29165</td>\n",
       "        <td>Ankit</td>\n",
       "        <td>Deepali</td>\n",
       "        <td>5.0</td>\n",
       "        <td>AD1644937018</td>\n",
       "        <td>ccx45d</td>\n",
       "        <td>02/15/2022, 20:26:58</td>\n",
       "        <td>642be12a2ec22b84b1e9630853ffe01310e4ccac73a866b023ee798552b7a5c6</td>\n",
       "    </tr>\n",
       "    <tr>\n",
       "        <td>4</td>\n",
       "        <td>642be12a2ec22b84b1e9630853ffe01310e4ccac73a866b023ee798552b7a5c6</td>\n",
       "        <td>Belucoin_corp</td>\n",
       "        <td>Nabaneeta</td>\n",
       "        <td>3.0</td>\n",
       "        <td>BN1644937068</td>\n",
       "        <td></td>\n",
       "        <td>02/15/2022, 20:27:49</td>\n",
       "        <td>f9285118a1e1af01d383848cfbb4ca17b12c7866236c28504484cef7c45d8056</td>\n",
       "    </tr>\n",
       "</table>"
      ],
      "text/plain": [
       "[(0, 0.0, 'beluga', 'skittle', 1.0, 0.0, 0.0, '02/15/2022, 20:23:51', '842c7636e1f5f3f4440f64b15280a1534ba6c31e5889d2cdd93e73cc630ba3a5'),\n",
       " (1, '842c7636e1f5f3f4440f64b15280a1534ba6c31e5889d2cdd93e73cc630ba3a5', 'Ankit', 'Belucoin_corp', 10.0, 'AB1644936972', 'ccx340', '02/15/2022, 20:26:14', 'bbb56b0e8d0e80fed91ecb036d767792039ed2af3c9c3eaf46f2b3abcef35a1c'),\n",
       " (2, 'bbb56b0e8d0e80fed91ecb036d767792039ed2af3c9c3eaf46f2b3abcef35a1c', 'Deepali', 'Belucoin_corp', 5.0, 'DB1644936984', 'ccx340', '02/15/2022, 20:26:24', '4fb656e78d914bf25588d669d4ac2c092ec9574ac3df7d59d4a6ba7a9cc29165'),\n",
       " (3, '4fb656e78d914bf25588d669d4ac2c092ec9574ac3df7d59d4a6ba7a9cc29165', 'Ankit', 'Deepali', 5.0, 'AD1644937018', 'ccx45d', '02/15/2022, 20:26:58', '642be12a2ec22b84b1e9630853ffe01310e4ccac73a866b023ee798552b7a5c6'),\n",
       " (4, '642be12a2ec22b84b1e9630853ffe01310e4ccac73a866b023ee798552b7a5c6', 'Belucoin_corp', 'Nabaneeta', 3.0, 'BN1644937068', '', '02/15/2022, 20:27:49', 'f9285118a1e1af01d383848cfbb4ca17b12c7866236c28504484cef7c45d8056')]"
      ]
     },
     "execution_count": 40,
     "metadata": {},
     "output_type": "execute_result"
    }
   ],
   "source": [
    "%%sql\n",
    "\n",
    "select * from blocks;"
   ]
  },
  {
   "cell_type": "code",
   "execution_count": 41,
   "id": "2e83c3f7",
   "metadata": {},
   "outputs": [
    {
     "name": "stdout",
     "output_type": "stream",
     "text": [
      " * sqlite:///belucoin_database.db\n",
      "Done.\n"
     ]
    },
    {
     "data": {
      "text/html": [
       "<table>\n",
       "    <tr>\n",
       "        <th>index</th>\n",
       "        <th>payer</th>\n",
       "        <th>receiver</th>\n",
       "        <th>amount</th>\n",
       "        <th>publickey</th>\n",
       "        <th>privatekey</th>\n",
       "        <th>timestamp</th>\n",
       "        <th>operation</th>\n",
       "        <th>balance</th>\n",
       "    </tr>\n",
       "    <tr>\n",
       "        <td>2</td>\n",
       "        <td>Belucoin</td>\n",
       "        <td>Ankit</td>\n",
       "        <td>0.0</td>\n",
       "        <td>cv0</td>\n",
       "        <td>vv0</td>\n",
       "        <td>1644936878.0</td>\n",
       "        <td>Initiation</td>\n",
       "        <td>0.0</td>\n",
       "    </tr>\n",
       "    <tr>\n",
       "        <td>8</td>\n",
       "        <td>Ankit</td>\n",
       "        <td>Belucoin_corp</td>\n",
       "        <td>10.0</td>\n",
       "        <td>AB1644936972</td>\n",
       "        <td>ccx340</td>\n",
       "        <td>02/15/2022, 20:26:12</td>\n",
       "        <td>bought_coins</td>\n",
       "        <td>10.0</td>\n",
       "    </tr>\n",
       "    <tr>\n",
       "        <td>10</td>\n",
       "        <td>Ankit</td>\n",
       "        <td>Belucoin_corp</td>\n",
       "        <td>10.0</td>\n",
       "        <td>AB1644936972</td>\n",
       "        <td>ccx340</td>\n",
       "        <td>02/15/2022, 20:26:14</td>\n",
       "        <td>mining</td>\n",
       "        <td>12.0</td>\n",
       "    </tr>\n",
       "    <tr>\n",
       "        <td>14</td>\n",
       "        <td>Deepali</td>\n",
       "        <td>Belucoin_corp</td>\n",
       "        <td>5.0</td>\n",
       "        <td>DB1644936984</td>\n",
       "        <td>ccx340</td>\n",
       "        <td>02/15/2022, 20:26:24</td>\n",
       "        <td>mining</td>\n",
       "        <td>14.0</td>\n",
       "    </tr>\n",
       "    <tr>\n",
       "        <td>16</td>\n",
       "        <td>Ankit</td>\n",
       "        <td>Deepali</td>\n",
       "        <td>5.0</td>\n",
       "        <td>AD1644937018</td>\n",
       "        <td>ccx45d</td>\n",
       "        <td>02/15/2022, 20:26:58</td>\n",
       "        <td>substraction</td>\n",
       "        <td>9.0</td>\n",
       "    </tr>\n",
       "    <tr>\n",
       "        <td>18</td>\n",
       "        <td>Ankit</td>\n",
       "        <td>Deepali</td>\n",
       "        <td>5.0</td>\n",
       "        <td>AD1644937018</td>\n",
       "        <td>ccx45d</td>\n",
       "        <td>02/15/2022, 20:26:58</td>\n",
       "        <td>mining</td>\n",
       "        <td>11.0</td>\n",
       "    </tr>\n",
       "</table>"
      ],
      "text/plain": [
       "[(2, 'Belucoin', 'Ankit', 0.0, 'cv0', 'vv0', 1644936878.0, 'Initiation', 0.0),\n",
       " (8, 'Ankit', 'Belucoin_corp', 10.0, 'AB1644936972', 'ccx340', '02/15/2022, 20:26:12', 'bought_coins', 10.0),\n",
       " (10, 'Ankit', 'Belucoin_corp', 10.0, 'AB1644936972', 'ccx340', '02/15/2022, 20:26:14', 'mining', 12.0),\n",
       " (14, 'Deepali', 'Belucoin_corp', 5.0, 'DB1644936984', 'ccx340', '02/15/2022, 20:26:24', 'mining', 14.0),\n",
       " (16, 'Ankit', 'Deepali', 5.0, 'AD1644937018', 'ccx45d', '02/15/2022, 20:26:58', 'substraction', 9.0),\n",
       " (18, 'Ankit', 'Deepali', 5.0, 'AD1644937018', 'ccx45d', '02/15/2022, 20:26:58', 'mining', 11.0)]"
      ]
     },
     "execution_count": 41,
     "metadata": {},
     "output_type": "execute_result"
    }
   ],
   "source": [
    "%%sql\n",
    "\n",
    "select * from Ankit;"
   ]
  },
  {
   "cell_type": "code",
   "execution_count": 42,
   "id": "43b47fad",
   "metadata": {},
   "outputs": [
    {
     "name": "stdout",
     "output_type": "stream",
     "text": [
      " * sqlite:///belucoin_database.db\n",
      "Done.\n"
     ]
    },
    {
     "data": {
      "text/html": [
       "<table>\n",
       "    <tr>\n",
       "        <th>index</th>\n",
       "        <th>payer</th>\n",
       "        <th>receiver</th>\n",
       "        <th>amount</th>\n",
       "        <th>publickey</th>\n",
       "        <th>privatekey</th>\n",
       "        <th>timestamp</th>\n",
       "        <th>operation</th>\n",
       "        <th>balance</th>\n",
       "    </tr>\n",
       "    <tr>\n",
       "        <td>4</td>\n",
       "        <td>Belucoin</td>\n",
       "        <td>Deepali</td>\n",
       "        <td>0.0</td>\n",
       "        <td>cv0</td>\n",
       "        <td>vv0</td>\n",
       "        <td>1644936899.0</td>\n",
       "        <td>Initiation</td>\n",
       "        <td>0.0</td>\n",
       "    </tr>\n",
       "    <tr>\n",
       "        <td>12</td>\n",
       "        <td>Deepali</td>\n",
       "        <td>Belucoin_corp</td>\n",
       "        <td>5.0</td>\n",
       "        <td>DB1644936984</td>\n",
       "        <td>ccx340</td>\n",
       "        <td>02/15/2022, 20:26:24</td>\n",
       "        <td>bought_coins</td>\n",
       "        <td>5.0</td>\n",
       "    </tr>\n",
       "    <tr>\n",
       "        <td>17</td>\n",
       "        <td>Ankit</td>\n",
       "        <td>Deepali</td>\n",
       "        <td>5.0</td>\n",
       "        <td>AD1644937018</td>\n",
       "        <td>ccx45d</td>\n",
       "        <td>02/15/2022, 20:26:58</td>\n",
       "        <td>substraction</td>\n",
       "        <td>10.0</td>\n",
       "    </tr>\n",
       "    <tr>\n",
       "        <td>22</td>\n",
       "        <td>Belucoin_corp</td>\n",
       "        <td>Nabaneeta</td>\n",
       "        <td>3.0</td>\n",
       "        <td>BN1644937068</td>\n",
       "        <td></td>\n",
       "        <td>02/15/2022, 20:27:49</td>\n",
       "        <td>mining</td>\n",
       "        <td>12.0</td>\n",
       "    </tr>\n",
       "</table>"
      ],
      "text/plain": [
       "[(4, 'Belucoin', 'Deepali', 0.0, 'cv0', 'vv0', 1644936899.0, 'Initiation', 0.0),\n",
       " (12, 'Deepali', 'Belucoin_corp', 5.0, 'DB1644936984', 'ccx340', '02/15/2022, 20:26:24', 'bought_coins', 5.0),\n",
       " (17, 'Ankit', 'Deepali', 5.0, 'AD1644937018', 'ccx45d', '02/15/2022, 20:26:58', 'substraction', 10.0),\n",
       " (22, 'Belucoin_corp', 'Nabaneeta', 3.0, 'BN1644937068', '', '02/15/2022, 20:27:49', 'mining', 12.0)]"
      ]
     },
     "execution_count": 42,
     "metadata": {},
     "output_type": "execute_result"
    }
   ],
   "source": [
    "%%sql\n",
    "\n",
    "select * from Deepali;"
   ]
  },
  {
   "cell_type": "code",
   "execution_count": 43,
   "id": "468761f7",
   "metadata": {},
   "outputs": [
    {
     "name": "stdout",
     "output_type": "stream",
     "text": [
      " * sqlite:///belucoin_database.db\n",
      "Done.\n"
     ]
    },
    {
     "data": {
      "text/html": [
       "<table>\n",
       "    <tr>\n",
       "        <th>index</th>\n",
       "        <th>payer</th>\n",
       "        <th>receiver</th>\n",
       "        <th>amount</th>\n",
       "        <th>publickey</th>\n",
       "        <th>privatekey</th>\n",
       "        <th>timestamp</th>\n",
       "        <th>operation</th>\n",
       "        <th>balance</th>\n",
       "    </tr>\n",
       "    <tr>\n",
       "        <td>6</td>\n",
       "        <td>Belucoin</td>\n",
       "        <td>Nabaneeta</td>\n",
       "        <td>0.0</td>\n",
       "        <td>cv0</td>\n",
       "        <td>vv0</td>\n",
       "        <td>1644936910.0</td>\n",
       "        <td>Initiation</td>\n",
       "        <td>0.0</td>\n",
       "    </tr>\n",
       "    <tr>\n",
       "        <td>20</td>\n",
       "        <td>Belucoin_corp</td>\n",
       "        <td>Nabaneeta</td>\n",
       "        <td>3.0</td>\n",
       "        <td>BN1644937068</td>\n",
       "        <td></td>\n",
       "        <td>02/15/2022, 20:27:48</td>\n",
       "        <td>selling_coins</td>\n",
       "        <td>-3.0</td>\n",
       "    </tr>\n",
       "</table>"
      ],
      "text/plain": [
       "[(6, 'Belucoin', 'Nabaneeta', 0.0, 'cv0', 'vv0', 1644936910.0, 'Initiation', 0.0),\n",
       " (20, 'Belucoin_corp', 'Nabaneeta', 3.0, 'BN1644937068', '', '02/15/2022, 20:27:48', 'selling_coins', -3.0)]"
      ]
     },
     "execution_count": 43,
     "metadata": {},
     "output_type": "execute_result"
    }
   ],
   "source": [
    "%%sql\n",
    "\n",
    "select * from Nabaneeta;"
   ]
  },
  {
   "cell_type": "markdown",
   "id": "20ab3282",
   "metadata": {},
   "source": [
    "```NOTE:```as observed in the above table, always be sure to add some balance into the accounts of each user after creating them to avoid negative values."
   ]
  },
  {
   "cell_type": "code",
   "execution_count": 44,
   "id": "49ce40fc",
   "metadata": {},
   "outputs": [
    {
     "name": "stdout",
     "output_type": "stream",
     "text": [
      " * sqlite:///belucoin_database.db\n",
      "Done.\n"
     ]
    },
    {
     "data": {
      "text/html": [
       "<table>\n",
       "    <tr>\n",
       "        <th>index</th>\n",
       "        <th>Transaction</th>\n",
       "        <th>Operation</th>\n",
       "        <th>Total_coins_in_circulation</th>\n",
       "    </tr>\n",
       "    <tr>\n",
       "        <td>1</td>\n",
       "        <td>Initiatiation</td>\n",
       "        <td>additon</td>\n",
       "        <td>10.0</td>\n",
       "    </tr>\n",
       "    <tr>\n",
       "        <td>11</td>\n",
       "        <td>Coin_generated</td>\n",
       "        <td>additon</td>\n",
       "        <td>14.0</td>\n",
       "    </tr>\n",
       "    <tr>\n",
       "        <td>15</td>\n",
       "        <td>Coin_generated</td>\n",
       "        <td>additon</td>\n",
       "        <td>16.0</td>\n",
       "    </tr>\n",
       "    <tr>\n",
       "        <td>19</td>\n",
       "        <td>Coin_generated</td>\n",
       "        <td>additon</td>\n",
       "        <td>13.0</td>\n",
       "    </tr>\n",
       "    <tr>\n",
       "        <td>23</td>\n",
       "        <td>Coin_generated</td>\n",
       "        <td>additon</td>\n",
       "        <td>14.0</td>\n",
       "    </tr>\n",
       "</table>"
      ],
      "text/plain": [
       "[(1, 'Initiatiation', 'additon', 10.0),\n",
       " (11, 'Coin_generated', 'additon', 14.0),\n",
       " (15, 'Coin_generated', 'additon', 16.0),\n",
       " (19, 'Coin_generated', 'additon', 13.0),\n",
       " (23, 'Coin_generated', 'additon', 14.0)]"
      ]
     },
     "execution_count": 44,
     "metadata": {},
     "output_type": "execute_result"
    }
   ],
   "source": [
    "%%sql\n",
    "\n",
    "select * from belucoins;"
   ]
  },
  {
   "cell_type": "markdown",
   "id": "e965f8ff",
   "metadata": {},
   "source": [
    "If queries persist, feel free to contact me. It always feels great to discuss about code anyways 🌼:\n",
    "[Twitter](https://twitter.com/ankyeet)\n",
    "[Instagram](https://www.instagram.com/ankit_rana_07/)\n",
    "[Github](https://github.com/Ankit161001)"
   ]
  }
 ],
 "metadata": {
  "kernelspec": {
   "display_name": "Python 3 (ipykernel)",
   "language": "python",
   "name": "python3"
  },
  "language_info": {
   "codemirror_mode": {
    "name": "ipython",
    "version": 3
   },
   "file_extension": ".py",
   "mimetype": "text/x-python",
   "name": "python",
   "nbconvert_exporter": "python",
   "pygments_lexer": "ipython3",
   "version": "3.7.6"
  }
 },
 "nbformat": 4,
 "nbformat_minor": 5
}
